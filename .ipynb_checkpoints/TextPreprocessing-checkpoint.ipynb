{
 "cells": [
  {
   "cell_type": "code",
   "execution_count": 1,
   "id": "e6281b43-4438-4828-9a6b-6c4aba174ef1",
   "metadata": {},
   "outputs": [],
   "source": [
    "from tensorflow.keras.preprocessing.text import Tokenizer\n",
    "from tensorflow.keras.preprocessing.sequence import pad_sequences"
   ]
  },
  {
   "cell_type": "code",
   "execution_count": 2,
   "id": "824706fe-db82-432d-9ef6-b4a4125b2d92",
   "metadata": {},
   "outputs": [],
   "source": [
    "sentences=[\n",
    "    \"I like burgers and fries.\",\n",
    "    \"I like chocolates and bunnies.\",\n",
    "    \"I hate onions.\"\n",
    "]"
   ]
  },
  {
   "cell_type": "code",
   "execution_count": 3,
   "id": "eee8b00b-73b0-4a0d-9627-e5210f5a8d28",
   "metadata": {},
   "outputs": [],
   "source": [
    "MAX_VOCAB_SIZE=20000\n",
    "tokenizer=Tokenizer(num_words=MAX_VOCAB_SIZE)\n",
    "tokenizer.fit_on_texts(sentences)\n",
    "sequences= tokenizer.texts_to_sequences(sentences)"
   ]
  },
  {
   "cell_type": "code",
   "execution_count": 4,
   "id": "b67518da-841d-4f4a-a601-aea3418d56fb",
   "metadata": {},
   "outputs": [
    {
     "name": "stdout",
     "output_type": "stream",
     "text": [
      "[[1, 2, 4, 3, 5], [1, 2, 6, 3, 7], [1, 8, 9]]\n"
     ]
    }
   ],
   "source": [
    "print(sequences)"
   ]
  },
  {
   "cell_type": "code",
   "execution_count": 5,
   "id": "78d3b360-66fe-44fb-849b-dba6a7d5e2b8",
   "metadata": {},
   "outputs": [
    {
     "data": {
      "text/plain": [
       "{'i': 1,\n",
       " 'like': 2,\n",
       " 'and': 3,\n",
       " 'burgers': 4,\n",
       " 'fries': 5,\n",
       " 'chocolates': 6,\n",
       " 'bunnies': 7,\n",
       " 'hate': 8,\n",
       " 'onions': 9}"
      ]
     },
     "execution_count": 5,
     "metadata": {},
     "output_type": "execute_result"
    }
   ],
   "source": [
    "#word to index mapping\n",
    "tokenizer.word_index"
   ]
  },
  {
   "cell_type": "code",
   "execution_count": 6,
   "id": "cd0ffa83-72be-43b6-8106-e1c947a9caf2",
   "metadata": {},
   "outputs": [
    {
     "data": {
      "text/plain": [
       "array([[1, 2, 4, 3, 5],\n",
       "       [1, 2, 6, 3, 7],\n",
       "       [0, 0, 1, 8, 9]])"
      ]
     },
     "execution_count": 6,
     "metadata": {},
     "output_type": "execute_result"
    }
   ],
   "source": [
    "#using defaults\n",
    "data=pad_sequences(sequences)\n",
    "data"
   ]
  },
  {
   "cell_type": "code",
   "execution_count": 8,
   "id": "53268f0b-283e-473d-bf85-c9db1ee640ad",
   "metadata": {},
   "outputs": [
    {
     "data": {
      "text/plain": [
       "array([[1, 2, 4, 3, 5],\n",
       "       [1, 2, 6, 3, 7],\n",
       "       [0, 0, 1, 8, 9]])"
      ]
     },
     "execution_count": 8,
     "metadata": {},
     "output_type": "execute_result"
    }
   ],
   "source": [
    "MAX_SEQ_LENGTH=5\n",
    "data=pad_sequences(sequences,maxlen=MAX_SEQ_LENGTH)\n",
    "data"
   ]
  },
  {
   "cell_type": "code",
   "execution_count": 10,
   "id": "7abe12d9-e121-4883-9f27-ac1a4b9a79de",
   "metadata": {},
   "outputs": [
    {
     "data": {
      "text/plain": [
       "array([[1, 2, 4, 3, 5],\n",
       "       [1, 2, 6, 3, 7],\n",
       "       [1, 8, 9, 0, 0]])"
      ]
     },
     "execution_count": 10,
     "metadata": {},
     "output_type": "execute_result"
    }
   ],
   "source": [
    "data=pad_sequences(sequences,maxlen=MAX_SEQ_LENGTH,padding='post')\n",
    "data"
   ]
  },
  {
   "cell_type": "code",
   "execution_count": 11,
   "id": "9f32eb91-3791-42a9-9da9-246ec16b44b6",
   "metadata": {},
   "outputs": [
    {
     "data": {
      "text/plain": [
       "array([[0, 1, 2, 4, 3, 5],\n",
       "       [0, 1, 2, 6, 3, 7],\n",
       "       [0, 0, 0, 1, 8, 9]])"
      ]
     },
     "execution_count": 11,
     "metadata": {},
     "output_type": "execute_result"
    }
   ],
   "source": [
    "#too much padding\n",
    "data=pad_sequences(sequences,maxlen=6)\n",
    "data"
   ]
  },
  {
   "cell_type": "code",
   "execution_count": 12,
   "id": "e27d41a1-84a7-4922-9810-45c14e073149",
   "metadata": {},
   "outputs": [
    {
     "data": {
      "text/plain": [
       "array([[2, 4, 3, 5],\n",
       "       [2, 6, 3, 7],\n",
       "       [0, 1, 8, 9]])"
      ]
     },
     "execution_count": 12,
     "metadata": {},
     "output_type": "execute_result"
    }
   ],
   "source": [
    "#truncation\n",
    "data=pad_sequences(sequences,maxlen=4)\n",
    "data"
   ]
  },
  {
   "cell_type": "code",
   "execution_count": 13,
   "id": "638c968d-131e-4c61-a741-ea2909bfdee8",
   "metadata": {},
   "outputs": [
    {
     "data": {
      "text/plain": [
       "array([[1, 2, 4, 3],\n",
       "       [1, 2, 6, 3],\n",
       "       [0, 1, 8, 9]])"
      ]
     },
     "execution_count": 13,
     "metadata": {},
     "output_type": "execute_result"
    }
   ],
   "source": [
    "data=pad_sequences(sequences,maxlen=4,truncating='post')\n",
    "data"
   ]
  },
  {
   "cell_type": "code",
   "execution_count": null,
   "id": "b7d49e47-4a13-4395-9482-b9c2d06e986f",
   "metadata": {},
   "outputs": [],
   "source": []
  }
 ],
 "metadata": {
  "kernelspec": {
   "display_name": "Python 3 (ipykernel)",
   "language": "python",
   "name": "python3"
  },
  "language_info": {
   "codemirror_mode": {
    "name": "ipython",
    "version": 3
   },
   "file_extension": ".py",
   "mimetype": "text/x-python",
   "name": "python",
   "nbconvert_exporter": "python",
   "pygments_lexer": "ipython3",
   "version": "3.10.8"
  }
 },
 "nbformat": 4,
 "nbformat_minor": 5
}
