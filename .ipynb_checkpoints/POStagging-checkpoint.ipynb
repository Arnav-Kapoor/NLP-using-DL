{
 "cells": [
  {
   "cell_type": "markdown",
   "id": "6fc3d4c2-6f92-48d0-a699-3b0534a04935",
   "metadata": {},
   "source": [
    "### Many to Many usecase"
   ]
  },
  {
   "cell_type": "code",
   "execution_count": 1,
   "id": "f3c5ce1d-ba3f-489c-a612-370c3224d13e",
   "metadata": {},
   "outputs": [],
   "source": [
    "import nltk\n",
    "from nltk.corpus import brown"
   ]
  },
  {
   "cell_type": "code",
   "execution_count": 2,
   "id": "f8cae308-b4e4-4748-90fd-8d0facc6ec24",
   "metadata": {},
   "outputs": [
    {
     "name": "stderr",
     "output_type": "stream",
     "text": [
      "[nltk_data] Downloading package brown to\n",
      "[nltk_data]     C:\\Users\\dellb\\AppData\\Roaming\\nltk_data...\n",
      "[nltk_data]   Unzipping corpora\\brown.zip.\n",
      "[nltk_data] Downloading package universal_tagset to\n",
      "[nltk_data]     C:\\Users\\dellb\\AppData\\Roaming\\nltk_data...\n",
      "[nltk_data]   Unzipping taggers\\universal_tagset.zip.\n"
     ]
    },
    {
     "data": {
      "text/plain": [
       "True"
      ]
     },
     "execution_count": 2,
     "metadata": {},
     "output_type": "execute_result"
    }
   ],
   "source": [
    "nltk.download('brown')\n",
    "nltk.download('universal_tagset')"
   ]
  },
  {
   "cell_type": "code",
   "execution_count": 3,
   "id": "a31339b8-0588-442f-a5cc-6fa1f49e78fc",
   "metadata": {},
   "outputs": [],
   "source": [
    "corpus=brown.tagged_sents(tagset='universal')"
   ]
  },
  {
   "cell_type": "code",
   "execution_count": 4,
   "id": "a057903f-d195-4962-a238-ab7b6d6734dc",
   "metadata": {},
   "outputs": [
    {
     "data": {
      "text/plain": [
       "[[('The', 'DET'), ('Fulton', 'NOUN'), ('County', 'NOUN'), ('Grand', 'ADJ'), ('Jury', 'NOUN'), ('said', 'VERB'), ('Friday', 'NOUN'), ('an', 'DET'), ('investigation', 'NOUN'), ('of', 'ADP'), (\"Atlanta's\", 'NOUN'), ('recent', 'ADJ'), ('primary', 'NOUN'), ('election', 'NOUN'), ('produced', 'VERB'), ('``', '.'), ('no', 'DET'), ('evidence', 'NOUN'), (\"''\", '.'), ('that', 'ADP'), ('any', 'DET'), ('irregularities', 'NOUN'), ('took', 'VERB'), ('place', 'NOUN'), ('.', '.')], [('The', 'DET'), ('jury', 'NOUN'), ('further', 'ADV'), ('said', 'VERB'), ('in', 'ADP'), ('term-end', 'NOUN'), ('presentments', 'NOUN'), ('that', 'ADP'), ('the', 'DET'), ('City', 'NOUN'), ('Executive', 'ADJ'), ('Committee', 'NOUN'), (',', '.'), ('which', 'DET'), ('had', 'VERB'), ('over-all', 'ADJ'), ('charge', 'NOUN'), ('of', 'ADP'), ('the', 'DET'), ('election', 'NOUN'), (',', '.'), ('``', '.'), ('deserves', 'VERB'), ('the', 'DET'), ('praise', 'NOUN'), ('and', 'CONJ'), ('thanks', 'NOUN'), ('of', 'ADP'), ('the', 'DET'), ('City', 'NOUN'), ('of', 'ADP'), ('Atlanta', 'NOUN'), (\"''\", '.'), ('for', 'ADP'), ('the', 'DET'), ('manner', 'NOUN'), ('in', 'ADP'), ('which', 'DET'), ('the', 'DET'), ('election', 'NOUN'), ('was', 'VERB'), ('conducted', 'VERB'), ('.', '.')], ...]"
      ]
     },
     "execution_count": 4,
     "metadata": {},
     "output_type": "execute_result"
    }
   ],
   "source": [
    "corpus"
   ]
  },
  {
   "cell_type": "code",
   "execution_count": 5,
   "id": "a99c84ff-9933-401b-97e4-31d52b596055",
   "metadata": {},
   "outputs": [
    {
     "data": {
      "text/plain": [
       "57340"
      ]
     },
     "execution_count": 5,
     "metadata": {},
     "output_type": "execute_result"
    }
   ],
   "source": [
    "len(corpus)"
   ]
  },
  {
   "cell_type": "code",
   "execution_count": 6,
   "id": "650f648b-c599-4da0-a2f2-0a937c12a020",
   "metadata": {},
   "outputs": [],
   "source": [
    "inputs=[]\n",
    "targets=[]\n",
    "\n",
    "for sentece_tag_pair in corpus:\n",
    "    tokens=[]\n",
    "    target=[]\n",
    "    for token,tag in sentece_tag_pair:\n",
    "        tokens.append(token)\n",
    "        target.append(tag)\n",
    "    inputs.append(tokens)\n",
    "    targets.append(target)"
   ]
  },
  {
   "cell_type": "code",
   "execution_count": 7,
   "id": "e00bfae9-431a-41e1-b14a-b286b0fae1b2",
   "metadata": {},
   "outputs": [],
   "source": [
    "import numpy as np\n",
    "import pandas as pd\n",
    "import matplotlib.pyplot as plt\n",
    "from sklearn.model_selection import train_test_split\n",
    "\n",
    "from tensorflow.keras.preprocessing.text import Tokenizer\n",
    "from tensorflow.keras.preprocessing.sequence import pad_sequences\n",
    "from tensorflow.keras.layers import Dense,Input,Bidirectional,LSTM,SimpleRNN,GRU,Embedding\n",
    "from tensorflow.keras.models import Model\n",
    "from tensorflow.keras.losses import SparseCategoricalCrossentropy"
   ]
  },
  {
   "cell_type": "code",
   "execution_count": 8,
   "id": "a7e700b4-343b-4bb0-b9e4-8a7596472d25",
   "metadata": {},
   "outputs": [],
   "source": [
    "train_inputs,test_inputs,train_outputs,test_outputs=train_test_split(inputs,targets,test_size=0.3)"
   ]
  },
  {
   "cell_type": "code",
   "execution_count": 9,
   "id": "3cc7db6f-d83b-401e-9184-7a97f20452aa",
   "metadata": {},
   "outputs": [],
   "source": [
    "#convert sentences to sequneces\n",
    "\n",
    "MAX_VOCAB_SIZE=None\n",
    "\n",
    "#capitalisation might be useful\n",
    "should_capitalize=False\n",
    "word_tokenizer=Tokenizer(num_words=MAX_VOCAB_SIZE,\n",
    "                         lower=should_capitalize,\n",
    "                         oov_token='UNK')\n",
    "word_tokenizer.fit_on_texts(train_inputs)\n",
    "train_inputs_int=word_tokenizer.texts_to_sequences(train_inputs)\n",
    "test_inputs_int=word_tokenizer.texts_to_sequences(test_inputs)"
   ]
  },
  {
   "cell_type": "code",
   "execution_count": 11,
   "id": "6d1897c9-7e5f-4230-b622-18393c206b2a",
   "metadata": {},
   "outputs": [
    {
     "name": "stdout",
     "output_type": "stream",
     "text": [
      "found 47517 unique tokens\n"
     ]
    }
   ],
   "source": [
    "#word to integer mapping\n",
    "word2idx=word_tokenizer.word_index\n",
    "V=len(word2idx)\n",
    "print(\"found %s unique tokens\"%V)"
   ]
  },
  {
   "cell_type": "code",
   "execution_count": 12,
   "id": "d7cbe625-c4df-44e2-80ae-65552191cafe",
   "metadata": {},
   "outputs": [],
   "source": [
    "def flatten(list_of_lists):\n",
    "    flattened=[val for sublist in list_of_lists for val in sublist]\n",
    "    return flattened"
   ]
  },
  {
   "cell_type": "code",
   "execution_count": 13,
   "id": "2b39d025-d20d-4fbf-978a-cebb2039e909",
   "metadata": {},
   "outputs": [
    {
     "data": {
      "text/plain": [
       "{'.',\n",
       " 'ADJ',\n",
       " 'ADP',\n",
       " 'ADV',\n",
       " 'CONJ',\n",
       " 'DET',\n",
       " 'NOUN',\n",
       " 'NUM',\n",
       " 'PRON',\n",
       " 'PRT',\n",
       " 'VERB',\n",
       " 'X'}"
      ]
     },
     "execution_count": 13,
     "metadata": {},
     "output_type": "execute_result"
    }
   ],
   "source": [
    "all_train_targets=set(flatten(train_outputs))\n",
    "all_train_targets"
   ]
  },
  {
   "cell_type": "code",
   "execution_count": 14,
   "id": "7d239008-5ceb-4cc5-ab64-b896dfcbf689",
   "metadata": {},
   "outputs": [
    {
     "data": {
      "text/plain": [
       "{'.',\n",
       " 'ADJ',\n",
       " 'ADP',\n",
       " 'ADV',\n",
       " 'CONJ',\n",
       " 'DET',\n",
       " 'NOUN',\n",
       " 'NUM',\n",
       " 'PRON',\n",
       " 'PRT',\n",
       " 'VERB',\n",
       " 'X'}"
      ]
     },
     "execution_count": 14,
     "metadata": {},
     "output_type": "execute_result"
    }
   ],
   "source": [
    "all_test_targets=set(flatten(test_outputs))\n",
    "all_test_targets"
   ]
  },
  {
   "cell_type": "code",
   "execution_count": 15,
   "id": "d1ed02a9-da8a-4e8b-aaa1-25901fb6b168",
   "metadata": {},
   "outputs": [
    {
     "data": {
      "text/plain": [
       "True"
      ]
     },
     "execution_count": 15,
     "metadata": {},
     "output_type": "execute_result"
    }
   ],
   "source": [
    "all_test_targets==all_train_targets"
   ]
  },
  {
   "cell_type": "code",
   "execution_count": 16,
   "id": "65f61fcf-3109-4388-8b73-78e4840cee22",
   "metadata": {},
   "outputs": [],
   "source": [
    "#convert target to sequences\n",
    "tag_tokenizer=Tokenizer()\n",
    "tag_tokenizer.fit_on_texts(train_outputs)\n",
    "train_targets_int=tag_tokenizer.texts_to_sequences(train_outputs)\n",
    "test_targets_int=tag_tokenizer.texts_to_sequences(test_outputs)"
   ]
  },
  {
   "cell_type": "code",
   "execution_count": 17,
   "id": "13a65746-f8bc-4953-9ad0-bc3a1cb15764",
   "metadata": {},
   "outputs": [],
   "source": [
    "#save for later\n",
    "train_targets_int_unpadded=train_targets_int\n",
    "test_targets_int_unpadded=test_targets_int"
   ]
  },
  {
   "cell_type": "code",
   "execution_count": 19,
   "id": "b20132a8-f562-4c6d-a263-8d88e768bbca",
   "metadata": {},
   "outputs": [],
   "source": [
    "#before padding find max document length because we dont want to truncate inputs which would also truncate targets\n",
    "maxlen_train=max(len(sent) for sent in train_inputs)\n",
    "maxlen_test=max(len(sent) for sent in test_inputs)\n",
    "T=max((maxlen_train,maxlen_test))"
   ]
  },
  {
   "cell_type": "code",
   "execution_count": 20,
   "id": "f6e5fd8e-3f47-4994-9efa-35e1ec3a127f",
   "metadata": {},
   "outputs": [
    {
     "name": "stdout",
     "output_type": "stream",
     "text": [
      "shape of data train tensor: (40138, 180)\n"
     ]
    }
   ],
   "source": [
    "#pad sequence matrix so we get NxT matrix\n",
    "train_inputs_int=pad_sequences(train_inputs_int, maxlen=T)\n",
    "print(\"shape of data train tensor:\",train_inputs_int.shape)"
   ]
  },
  {
   "cell_type": "code",
   "execution_count": 21,
   "id": "8c354592-9fb6-4ad0-b72b-77aedf6fd6de",
   "metadata": {},
   "outputs": [
    {
     "name": "stdout",
     "output_type": "stream",
     "text": [
      "shape of data test tensor: (17202, 180)\n"
     ]
    }
   ],
   "source": [
    "test_inputs_int=pad_sequences(test_inputs_int, maxlen=T)\n",
    "print(\"shape of data test tensor:\",test_inputs_int.shape)"
   ]
  },
  {
   "cell_type": "code",
   "execution_count": 23,
   "id": "35e56163-7e3c-4fb4-8fbd-bae184a57a55",
   "metadata": {},
   "outputs": [
    {
     "name": "stdout",
     "output_type": "stream",
     "text": [
      "shape of train targets tensor: (40138, 180)\n"
     ]
    }
   ],
   "source": [
    "train_targets_int=pad_sequences(train_targets_int, maxlen=T)\n",
    "print(\"shape of train targets tensor:\",train_targets_int.shape)"
   ]
  },
  {
   "cell_type": "code",
   "execution_count": 24,
   "id": "6c808b09-4a16-4840-bfe5-14afdc490d79",
   "metadata": {},
   "outputs": [
    {
     "name": "stdout",
     "output_type": "stream",
     "text": [
      "shape of test targets tensor: (17202, 180)\n"
     ]
    }
   ],
   "source": [
    "test_targets_int=pad_sequences(test_targets_int, maxlen=T)\n",
    "print(\"shape of test targets tensor:\",test_targets_int.shape)"
   ]
  },
  {
   "cell_type": "code",
   "execution_count": 25,
   "id": "2d2f940b-7c70-41c4-8d1a-d8ee28976d05",
   "metadata": {},
   "outputs": [
    {
     "data": {
      "text/plain": [
       "13"
      ]
     },
     "execution_count": 25,
     "metadata": {},
     "output_type": "execute_result"
    }
   ],
   "source": [
    "#number of classes\n",
    "K=len(tag_tokenizer.word_index)+1\n",
    "K"
   ]
  },
  {
   "cell_type": "code",
   "execution_count": 26,
   "id": "7ce7d5b5-ad5e-4652-9654-b19154a12707",
   "metadata": {},
   "outputs": [],
   "source": [
    "#create model\n",
    "D=32\n",
    "\n",
    "i=Input(shape=(T,))\n",
    "#mask_zero=True way slower on gpu than cpu\n",
    "l1=Embedding(V+1,D,mask_zero=True)(i) #ignore zeros that appear due to padding\n",
    "l2=Bidirectional(LSTM(32,return_sequences=True))(l1) #context can be in future also thats why bidirectional lstm\n",
    "x=Dense(K)(l2)\n",
    "\n",
    "model=Model(i,x)"
   ]
  },
  {
   "cell_type": "code",
   "execution_count": 27,
   "id": "b71a5ad3-ae96-464e-91ef-f48dab71d94f",
   "metadata": {},
   "outputs": [],
   "source": [
    "#compile\n",
    "model.compile(loss=SparseCategoricalCrossentropy(from_logits=True),\n",
    "             optimizer='adam',\n",
    "             metrics=['accuracy'])"
   ]
  },
  {
   "cell_type": "code",
   "execution_count": 28,
   "id": "895789be-2b7e-4602-9af6-85c68e468f30",
   "metadata": {},
   "outputs": [
    {
     "name": "stdout",
     "output_type": "stream",
     "text": [
      "Epoch 1/5\n",
      "1255/1255 [==============================] - 264s 200ms/step - loss: 0.0552 - accuracy: 0.8519 - val_loss: 0.0132 - val_accuracy: 0.9627\n",
      "Epoch 2/5\n",
      "1255/1255 [==============================] - 241s 192ms/step - loss: 0.0083 - accuracy: 0.9774 - val_loss: 0.0107 - val_accuracy: 0.9697\n",
      "Epoch 3/5\n",
      "1255/1255 [==============================] - 246s 196ms/step - loss: 0.0051 - accuracy: 0.9857 - val_loss: 0.0100 - val_accuracy: 0.9717\n",
      "Epoch 4/5\n",
      "1255/1255 [==============================] - 246s 196ms/step - loss: 0.0039 - accuracy: 0.9891 - val_loss: 0.0098 - val_accuracy: 0.9728\n",
      "Epoch 5/5\n",
      "1255/1255 [==============================] - 263s 210ms/step - loss: 0.0030 - accuracy: 0.9915 - val_loss: 0.0101 - val_accuracy: 0.9727\n"
     ]
    }
   ],
   "source": [
    "history=model.fit(train_inputs_int,train_targets_int,epochs=5,validation_data=(test_inputs_int,test_targets_int))"
   ]
  },
  {
   "cell_type": "code",
   "execution_count": 29,
   "id": "49f29bf0-d906-4f15-a40e-a49787c20325",
   "metadata": {},
   "outputs": [
    {
     "data": {
      "text/plain": [
       "<matplotlib.legend.Legend at 0x2a385f25000>"
      ]
     },
     "execution_count": 29,
     "metadata": {},
     "output_type": "execute_result"
    },
    {
     "data": {
      "image/png": "[encoded data removed]",
      "text/plain": [
       "<Figure size 640x480 with 1 Axes>"
      ]
     },
     "metadata": {},
     "output_type": "display_data"
    }
   ],
   "source": [
    "plt.plot(history.history['loss'],label='train loss')\n",
    "plt.plot(history.history['val_loss'],label='test loss')\n",
    "plt.legend()"
   ]
  },
  {
   "cell_type": "code",
   "execution_count": 30,
   "id": "6c80fad6-c3b8-4740-83dd-e772976fe599",
   "metadata": {},
   "outputs": [
    {
     "data": {
      "text/plain": [
       "<matplotlib.legend.Legend at 0x2a385c9ded0>"
      ]
     },
     "execution_count": 30,
     "metadata": {},
     "output_type": "execute_result"
    },
    {
     "data": {
      "image/png": "[encoded data removed]",
      "text/plain": [
       "<Figure size 640x480 with 1 Axes>"
      ]
     },
     "metadata": {},
     "output_type": "display_data"
    }
   ],
   "source": [
    "plt.plot(history.history['accuracy'],label='train acc')\n",
    "plt.plot(history.history['val_accuracy'],label='test acc')\n",
    "plt.legend()"
   ]
  },
  {
   "cell_type": "code",
   "execution_count": 32,
   "id": "d0f5c68b-20b4-4b10-9007-9fe6830c69fe",
   "metadata": {},
   "outputs": [],
   "source": [
    "#true model accuracy\n",
    "\n",
    "train_lengths=[]\n",
    "for sentence in train_inputs:\n",
    "    train_lengths.append(len(sentence))\n",
    "    \n",
    "test_lengths=[]\n",
    "for sentence in test_inputs:\n",
    "    test_lengths.append(len(sentence))"
   ]
  },
  {
   "cell_type": "code",
   "execution_count": 33,
   "id": "1c60b941-c0e3-46a0-b43e-044b069c2a82",
   "metadata": {},
   "outputs": [
    {
     "name": "stdout",
     "output_type": "stream",
     "text": [
      "1255/1255 [==============================] - 66s 49ms/step\n"
     ]
    }
   ],
   "source": [
    "train_probs=model.predict(train_inputs_int) #NxTxK\n",
    "train_predictions=[]\n",
    "for probs,length in zip(train_probs,train_lengths):\n",
    "    #probs is TxK\n",
    "    probs_=probs[-length:]\n",
    "    preds=np.argmax(probs_,axis=1)\n",
    "    train_predictions.append(preds)\n",
    "\n",
    "#flatten\n",
    "flat_train_predictions=flatten(train_predictions)\n",
    "flat_train_targets=flatten(train_targets_int_unpadded)"
   ]
  },
  {
   "cell_type": "code",
   "execution_count": 37,
   "id": "f7c33922-2ac6-4ac8-8b7d-71aaf6dea576",
   "metadata": {},
   "outputs": [
    {
     "name": "stdout",
     "output_type": "stream",
     "text": [
      "538/538 [==============================] - 26s 48ms/step\n"
     ]
    }
   ],
   "source": [
    "test_probs=model.predict(test_inputs_int) #NxTxK\n",
    "test_predictions=[]\n",
    "for probs,length in zip(test_probs,test_lengths):\n",
    "    #probs is TxK\n",
    "    probs_=probs[-length:]\n",
    "    preds=np.argmax(probs_,axis=1)\n",
    "    test_predictions.append(preds)\n",
    "\n",
    "#flatten\n",
    "flat_test_predictions=flatten(test_predictions)\n",
    "flat_test_targets=flatten(test_targets_int_unpadded)"
   ]
  },
  {
   "cell_type": "code",
   "execution_count": 38,
   "id": "a25eb9ee-5a75-42ed-b62b-e979b7045312",
   "metadata": {},
   "outputs": [
    {
     "name": "stdout",
     "output_type": "stream",
     "text": [
      "Train acc:  0.9938532935199983\n",
      "test acc:  0.9727065806733085\n",
      "Train f1:  0.9861123692566025\n",
      "test f1:  0.9390879519079931\n"
     ]
    }
   ],
   "source": [
    "from sklearn.metrics import accuracy_score, f1_score\n",
    "\n",
    "print(\"Train acc: \",accuracy_score(flat_train_targets,flat_train_predictions))\n",
    "print(\"test acc: \",accuracy_score(flat_test_targets,flat_test_predictions))\n",
    "\n",
    "print(\"Train f1: \",f1_score(flat_train_targets,flat_train_predictions,average='macro'))\n",
    "print(\"test f1: \",f1_score(flat_test_targets,flat_test_predictions,average='macro'))"
   ]
  },
  {
   "cell_type": "code",
   "execution_count": 42,
   "id": "988430e9-49e6-48ba-8090-bf5990795562",
   "metadata": {},
   "outputs": [],
   "source": [
    "#baseline model: word to tag map\n",
    "from collections import Counter\n",
    "\n",
    "def most_common(lst):\n",
    "    data=Counter(lst)\n",
    "    return data.most_common(1)[0][0]"
   ]
  },
  {
   "cell_type": "code",
   "execution_count": 43,
   "id": "db187e33-8f64-46bb-a485-5f46163e92b1",
   "metadata": {},
   "outputs": [],
   "source": [
    "token2tags={k:[]for k,v in word2idx.items()}\n",
    "\n",
    "#remove UNK token\n",
    "del token2tags['UNK']\n",
    "\n",
    "for tokens,tags in zip(train_inputs,train_outputs):\n",
    "    for token,tag in zip(tokens,tags):\n",
    "        if should_capitalize:\n",
    "            token=token.lower()\n",
    "        if token in token2tags:\n",
    "            token2tags[token].append(tag)\n",
    "token2tag={k:most_common(v) for k,v in token2tags.items()}"
   ]
  },
  {
   "cell_type": "code",
   "execution_count": 44,
   "id": "9e4ad8d3-8ccc-4795-a6ff-40df643dbce5",
   "metadata": {},
   "outputs": [],
   "source": [
    "#compute accuracy\n",
    "\n",
    "train_predictions=[]\n",
    "for sentence in train_inputs:\n",
    "    predictions=[]\n",
    "    for token in sentence:\n",
    "        if should_capitalize:\n",
    "            token=token.lower()\n",
    "        predicted_tag=token2tag[token]\n",
    "        predictions.append(predicted_tag)\n",
    "    train_predictions.append(predictions)\n",
    "flat_train_predictions=flatten(train_predictions)\n",
    "flat_train_targets=flatten(train_outputs)"
   ]
  },
  {
   "cell_type": "code",
   "execution_count": 45,
   "id": "709825da-68eb-450c-8e0b-0ac8c992439a",
   "metadata": {},
   "outputs": [],
   "source": [
    "test_predictions=[]\n",
    "for sentence in test_inputs:\n",
    "    predictions=[]\n",
    "    for token in sentence:\n",
    "        predicted_tag=token2tag.get(token,'INCORRECT')\n",
    "        predictions.append(predicted_tag)\n",
    "    test_predictions.append(predictions)\n",
    "flat_test_predictions=flatten(test_predictions)\n",
    "flat_test_targets=flatten(test_outputs)"
   ]
  },
  {
   "cell_type": "code",
   "execution_count": 46,
   "id": "3106af6f-9037-44ef-8d84-22869f27f52a",
   "metadata": {},
   "outputs": [
    {
     "name": "stdout",
     "output_type": "stream",
     "text": [
      "Train acc:  0.9572855573313255\n",
      "test acc:  0.92841540876983\n",
      "Train f1:  0.9380106140162034\n",
      "test f1:  0.8276115841790587\n"
     ]
    }
   ],
   "source": [
    "print(\"Train acc: \",accuracy_score(flat_train_targets,flat_train_predictions))\n",
    "print(\"test acc: \",accuracy_score(flat_test_targets,flat_test_predictions))\n",
    "\n",
    "print(\"Train f1: \",f1_score(flat_train_targets,flat_train_predictions,average='macro'))\n",
    "print(\"test f1: \",f1_score(flat_test_targets,flat_test_predictions,average='macro'))"
   ]
  },
  {
   "cell_type": "code",
   "execution_count": null,
   "id": "6a548b11-15a6-4c39-abc6-79fbedb77dba",
   "metadata": {},
   "outputs": [],
   "source": []
  }
 ],
 "metadata": {
  "kernelspec": {
   "display_name": "Python 3 (ipykernel)",
   "language": "python",
   "name": "python3"
  },
  "language_info": {
   "codemirror_mode": {
    "name": "ipython",
    "version": 3
   },
   "file_extension": ".py",
   "mimetype": "text/x-python",
   "name": "python",
   "nbconvert_exporter": "python",
   "pygments_lexer": "ipython3",
   "version": "3.10.8"
  }
 },
 "nbformat": 4,
 "nbformat_minor": 5
}
