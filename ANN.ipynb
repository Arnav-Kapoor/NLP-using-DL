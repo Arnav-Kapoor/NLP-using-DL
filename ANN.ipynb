{
 "cells": [
  {
   "cell_type": "code",
   "execution_count": 1,
   "id": "0882c2ce-db03-43e6-a470-cae51a1bd3da",
   "metadata": {},
   "outputs": [],
   "source": [
    "import numpy as np\n",
    "import pandas as pd\n",
    "import matplotlib.pyplot as plt\n",
    "import tensorflow as tf\n",
    "\n",
    "from sklearn.model_selection import train_test_split\n",
    "from sklearn.feature_extraction.text import TfidfVectorizer\n",
    "\n",
    "from tensorflow.keras.models import Model\n",
    "from tensorflow.keras.layers import Dense,Input"
   ]
  },
  {
   "cell_type": "code",
   "execution_count": 2,
   "id": "8a63f31a-15c2-4463-87de-302c4889b94e",
   "metadata": {},
   "outputs": [],
   "source": [
    "df=pd.read_csv('datasets/bbc_text_cls.csv')"
   ]
  },
  {
   "cell_type": "code",
   "execution_count": 3,
   "id": "e55bd062-ca40-46cb-b89b-f5a69884488b",
   "metadata": {},
   "outputs": [
    {
     "data": {
      "text/html": [
       "<div>\n",
       "<style scoped>\n",
       "    .dataframe tbody tr th:only-of-type {\n",
       "        vertical-align: middle;\n",
       "    }\n",
       "\n",
       "    .dataframe tbody tr th {\n",
       "        vertical-align: top;\n",
       "    }\n",
       "\n",
       "    .dataframe thead th {\n",
       "        text-align: right;\n",
       "    }\n",
       "</style>\n",
       "<table border=\"1\" class=\"dataframe\">\n",
       "  <thead>\n",
       "    <tr style=\"text-align: right;\">\n",
       "      <th></th>\n",
       "      <th>text</th>\n",
       "      <th>labels</th>\n",
       "    </tr>\n",
       "  </thead>\n",
       "  <tbody>\n",
       "    <tr>\n",
       "      <th>0</th>\n",
       "      <td>Ad sales boost Time Warner profit\\n\\nQuarterly...</td>\n",
       "      <td>business</td>\n",
       "    </tr>\n",
       "    <tr>\n",
       "      <th>1</th>\n",
       "      <td>Dollar gains on Greenspan speech\\n\\nThe dollar...</td>\n",
       "      <td>business</td>\n",
       "    </tr>\n",
       "    <tr>\n",
       "      <th>2</th>\n",
       "      <td>Yukos unit buyer faces loan claim\\n\\nThe owner...</td>\n",
       "      <td>business</td>\n",
       "    </tr>\n",
       "    <tr>\n",
       "      <th>3</th>\n",
       "      <td>High fuel prices hit BA's profits\\n\\nBritish A...</td>\n",
       "      <td>business</td>\n",
       "    </tr>\n",
       "    <tr>\n",
       "      <th>4</th>\n",
       "      <td>Pernod takeover talk lifts Domecq\\n\\nShares in...</td>\n",
       "      <td>business</td>\n",
       "    </tr>\n",
       "  </tbody>\n",
       "</table>\n",
       "</div>"
      ],
      "text/plain": [
       "                                                text    labels\n",
       "0  Ad sales boost Time Warner profit\\n\\nQuarterly...  business\n",
       "1  Dollar gains on Greenspan speech\\n\\nThe dollar...  business\n",
       "2  Yukos unit buyer faces loan claim\\n\\nThe owner...  business\n",
       "3  High fuel prices hit BA's profits\\n\\nBritish A...  business\n",
       "4  Pernod takeover talk lifts Domecq\\n\\nShares in...  business"
      ]
     },
     "execution_count": 3,
     "metadata": {},
     "output_type": "execute_result"
    }
   ],
   "source": [
    "df.head()"
   ]
  },
  {
   "cell_type": "code",
   "execution_count": 5,
   "id": "589f1df0-22f2-4d34-8e76-4ce31741d392",
   "metadata": {},
   "outputs": [
    {
     "data": {
      "text/plain": [
       "0       0\n",
       "1       0\n",
       "2       0\n",
       "3       0\n",
       "4       0\n",
       "       ..\n",
       "2220    4\n",
       "2221    4\n",
       "2222    4\n",
       "2223    4\n",
       "2224    4\n",
       "Length: 2225, dtype: int8"
      ]
     },
     "execution_count": 5,
     "metadata": {},
     "output_type": "execute_result"
    }
   ],
   "source": [
    "df['labels'].astype(\"category\").cat.codes"
   ]
  },
  {
   "cell_type": "code",
   "execution_count": 6,
   "id": "d8784a37-3093-4f75-bd85-eca54affc3ee",
   "metadata": {},
   "outputs": [],
   "source": [
    "df['target']=df['labels'].astype(\"category\").cat.codes"
   ]
  },
  {
   "cell_type": "code",
   "execution_count": 7,
   "id": "5503403a-d6c5-462e-8135-7a7f6aa3b25a",
   "metadata": {},
   "outputs": [],
   "source": [
    "df_train,df_test=train_test_split(df,test_size=0.3)"
   ]
  },
  {
   "cell_type": "code",
   "execution_count": 8,
   "id": "5969b854-f4d8-47d3-acdf-9d43729604d0",
   "metadata": {},
   "outputs": [],
   "source": [
    "tfidf=TfidfVectorizer(stop_words='english')\n",
    "X_train=tfidf.fit_transform(df_train['text'])\n",
    "X_test=tfidf.transform(df_test['text'])"
   ]
  },
  {
   "cell_type": "code",
   "execution_count": 9,
   "id": "1d74d339-db6b-4137-92ea-231b236cc2c1",
   "metadata": {},
   "outputs": [],
   "source": [
    "y_train=df_train['target']\n",
    "y_test=df_test['target']"
   ]
  },
  {
   "cell_type": "code",
   "execution_count": 11,
   "id": "41ccaf9b-5ec6-482b-a2db-33e089c48dc3",
   "metadata": {},
   "outputs": [
    {
     "data": {
      "text/plain": [
       "5"
      ]
     },
     "execution_count": 11,
     "metadata": {},
     "output_type": "execute_result"
    }
   ],
   "source": [
    "#number of classes\n",
    "K=df['target'].max()+1\n",
    "K"
   ]
  },
  {
   "cell_type": "code",
   "execution_count": 12,
   "id": "8effb383-e647-4efe-9726-dd2982450c1e",
   "metadata": {},
   "outputs": [
    {
     "data": {
      "text/plain": [
       "25263"
      ]
     },
     "execution_count": 12,
     "metadata": {},
     "output_type": "execute_result"
    }
   ],
   "source": [
    "#input dimesnions\n",
    "D=X_train.shape[1]\n",
    "D"
   ]
  },
  {
   "cell_type": "code",
   "execution_count": 13,
   "id": "f307df3b-da19-4f1c-b606-ae1da87aa54d",
   "metadata": {},
   "outputs": [],
   "source": [
    "#build model\n",
    "i=Input(shape=(D,))\n",
    "l1=Dense(256,activation='relu')(i)\n",
    "x=Dense(K)(l1)\n",
    "\n",
    "model=Model(i,x)"
   ]
  },
  {
   "cell_type": "code",
   "execution_count": 14,
   "id": "bceb7ea0-2843-43c4-9d66-aa1d76f9dc9d",
   "metadata": {},
   "outputs": [
    {
     "name": "stdout",
     "output_type": "stream",
     "text": [
      "Model: \"model\"\n",
      "_________________________________________________________________\n",
      " Layer (type)                Output Shape              Param #   \n",
      "=================================================================\n",
      " input_1 (InputLayer)        [(None, 25263)]           0         \n",
      "                                                                 \n",
      " dense (Dense)               (None, 256)               6467584   \n",
      "                                                                 \n",
      " dense_1 (Dense)             (None, 5)                 1285      \n",
      "                                                                 \n",
      "=================================================================\n",
      "Total params: 6,468,869\n",
      "Trainable params: 6,468,869\n",
      "Non-trainable params: 0\n",
      "_________________________________________________________________\n"
     ]
    }
   ],
   "source": [
    "model.summary()"
   ]
  },
  {
   "cell_type": "code",
   "execution_count": 15,
   "id": "fdb36599-c16d-4957-baed-af5779fffbb9",
   "metadata": {},
   "outputs": [],
   "source": [
    "model.compile(loss=tf.keras.losses.SparseCategoricalCrossentropy(from_logits=True),\n",
    "             optimizer='adam',\n",
    "             metrics=['accuracy'])"
   ]
  },
  {
   "cell_type": "code",
   "execution_count": 16,
   "id": "3c0f79d7-b09f-49f6-85ad-98a22f766b79",
   "metadata": {},
   "outputs": [],
   "source": [
    "X_train=X_train.toarray()\n",
    "X_test=X_test.toarray()"
   ]
  },
  {
   "cell_type": "code",
   "execution_count": 17,
   "id": "9e7ea2c2-bcea-49c7-b23e-9a21a5f4d986",
   "metadata": {},
   "outputs": [
    {
     "name": "stdout",
     "output_type": "stream",
     "text": [
      "Epoch 1/8\n",
      "13/13 [==============================] - 3s 148ms/step - loss: 1.4696 - accuracy: 0.8221 - val_loss: 1.2210 - val_accuracy: 0.9506\n",
      "Epoch 2/8\n",
      "13/13 [==============================] - 1s 98ms/step - loss: 0.9515 - accuracy: 0.9884 - val_loss: 0.7896 - val_accuracy: 0.9701\n",
      "Epoch 3/8\n",
      "13/13 [==============================] - 1s 90ms/step - loss: 0.5028 - accuracy: 0.9961 - val_loss: 0.4770 - val_accuracy: 0.9746\n",
      "Epoch 4/8\n",
      "13/13 [==============================] - 1s 90ms/step - loss: 0.2402 - accuracy: 0.9987 - val_loss: 0.3045 - val_accuracy: 0.9790\n",
      "Epoch 5/8\n",
      "13/13 [==============================] - 1s 90ms/step - loss: 0.1195 - accuracy: 0.9994 - val_loss: 0.2228 - val_accuracy: 0.9775\n",
      "Epoch 6/8\n",
      "13/13 [==============================] - 1s 91ms/step - loss: 0.0688 - accuracy: 1.0000 - val_loss: 0.1815 - val_accuracy: 0.9775\n",
      "Epoch 7/8\n",
      "13/13 [==============================] - 1s 85ms/step - loss: 0.0447 - accuracy: 1.0000 - val_loss: 0.1576 - val_accuracy: 0.9805\n",
      "Epoch 8/8\n",
      "13/13 [==============================] - 1s 79ms/step - loss: 0.0321 - accuracy: 1.0000 - val_loss: 0.1428 - val_accuracy: 0.9805\n"
     ]
    }
   ],
   "source": [
    "hist=model.fit(X_train,y_train,validation_data=(X_test,y_test), epochs=8, batch_size=128)"
   ]
  },
  {
   "cell_type": "code",
   "execution_count": 18,
   "id": "4e28d543-8560-480f-b199-2dca98fa4c1a",
   "metadata": {},
   "outputs": [
    {
     "data": {
      "text/plain": [
       "<matplotlib.legend.Legend at 0x2378a35a980>"
      ]
     },
     "execution_count": 18,
     "metadata": {},
     "output_type": "execute_result"
    },
    {
     "data": {
      "image/png": "[encoded data removed]",
      "text/plain": [
       "<Figure size 640x480 with 1 Axes>"
      ]
     },
     "metadata": {},
     "output_type": "display_data"
    }
   ],
   "source": [
    "#loss per epoch\n",
    "plt.plot(hist.history['loss'], label='train loss')\n",
    "plt.plot(hist.history['val_loss'], label='val loss')\n",
    "plt.legend()"
   ]
  },
  {
   "cell_type": "code",
   "execution_count": 19,
   "id": "63581f65-6012-4582-99e5-be0f574893cf",
   "metadata": {},
   "outputs": [
    {
     "data": {
      "text/plain": [
       "<matplotlib.legend.Legend at 0x2378a2a0970>"
      ]
     },
     "execution_count": 19,
     "metadata": {},
     "output_type": "execute_result"
    },
    {
     "data": {
      "image/png": "[encoded data removed]",
      "text/plain": [
       "<Figure size 640x480 with 1 Axes>"
      ]
     },
     "metadata": {},
     "output_type": "display_data"
    }
   ],
   "source": [
    "#accuracy per epoch\n",
    "plt.plot(hist.history['accuracy'], label='train acc')\n",
    "plt.plot(hist.history['val_accuracy'], label='val accuracy')\n",
    "plt.legend()"
   ]
  },
  {
   "cell_type": "code",
   "execution_count": 20,
   "id": "8f7ab5f3-eaac-4e5f-8280-faaf3ff9d348",
   "metadata": {},
   "outputs": [
    {
     "data": {
      "text/plain": [
       "<AxesSubplot: >"
      ]
     },
     "execution_count": 20,
     "metadata": {},
     "output_type": "execute_result"
    },
    {
     "data": {
      "image/png": "[encoded data removed]",
      "text/plain": [
       "<Figure size 640x480 with 1 Axes>"
      ]
     },
     "metadata": {},
     "output_type": "display_data"
    }
   ],
   "source": [
    "df['labels'].hist()"
   ]
  },
  {
   "cell_type": "code",
   "execution_count": null,
   "id": "998592c5-ae34-4a10-8b0f-cb003f3a7ea3",
   "metadata": {},
   "outputs": [],
   "source": []
  }
 ],
 "metadata": {
  "kernelspec": {
   "display_name": "Python 3 (ipykernel)",
   "language": "python",
   "name": "python3"
  },
  "language_info": {
   "codemirror_mode": {
    "name": "ipython",
    "version": 3
   },
   "file_extension": ".py",
   "mimetype": "text/x-python",
   "name": "python",
   "nbconvert_exporter": "python",
   "pygments_lexer": "ipython3",
   "version": "3.10.8"
  }
 },
 "nbformat": 4,
 "nbformat_minor": 5
}
