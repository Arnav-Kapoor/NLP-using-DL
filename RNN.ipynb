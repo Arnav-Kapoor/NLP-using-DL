{
 "cells": [
  {
   "cell_type": "code",
   "execution_count": 4,
   "id": "7d5125a3-b384-4e48-b061-667e5cfad1a0",
   "metadata": {},
   "outputs": [],
   "source": [
    "from tensorflow.keras.layers import SimpleRNN, Dense, Flatten,Input\n",
    "from tensorflow.keras.models import Model\n",
    "from tensorflow.keras.optimizers import SGD,Adam\n",
    "\n",
    "import numpy as np\n",
    "import pandas as pd\n",
    "import matplotlib.pyplot as plt"
   ]
  },
  {
   "cell_type": "code",
   "execution_count": 26,
   "id": "33927a25-739a-4bea-a2ed-695616247045",
   "metadata": {},
   "outputs": [],
   "source": [
    "N=1 #number of samples\n",
    "T=10 #sequence length\n",
    "D=3 #number of input features\n",
    "K=2 #number of output units\n",
    "X=np.random.randn(N,T,D)\n",
    "#M - number of hidden units"
   ]
  },
  {
   "cell_type": "code",
   "execution_count": 27,
   "id": "a68306d6-b4f0-419d-8786-b7ff05bd98ad",
   "metadata": {},
   "outputs": [],
   "source": [
    "#make rnn\n",
    "M=5\n",
    "i=Input(shape=(T,D))\n",
    "l1=SimpleRNN(M)(i)\n",
    "x=Dense(K)(l1)\n",
    "\n",
    "model=Model(i,x)"
   ]
  },
  {
   "cell_type": "code",
   "execution_count": 28,
   "id": "40000d3f-a981-4e75-8557-b9ea16a85cef",
   "metadata": {},
   "outputs": [
    {
     "name": "stdout",
     "output_type": "stream",
     "text": [
      "1/1 [==============================] - 0s 261ms/step\n"
     ]
    },
    {
     "data": {
      "text/plain": [
       "array([[-0.40034887,  0.6008744 ]], dtype=float32)"
      ]
     },
     "execution_count": 28,
     "metadata": {},
     "output_type": "execute_result"
    }
   ],
   "source": [
    "Yhat=model.predict(X)\n",
    "Yhat"
   ]
  },
  {
   "cell_type": "code",
   "execution_count": 29,
   "id": "e552d561-ab3f-4644-b665-2133ae8b8302",
   "metadata": {},
   "outputs": [
    {
     "name": "stdout",
     "output_type": "stream",
     "text": [
      "Model: \"model_4\"\n",
      "_________________________________________________________________\n",
      " Layer (type)                Output Shape              Param #   \n",
      "=================================================================\n",
      " input_5 (InputLayer)        [(None, 10, 3)]           0         \n",
      "                                                                 \n",
      " simple_rnn_4 (SimpleRNN)    (None, 5)                 45        \n",
      "                                                                 \n",
      " dense_4 (Dense)             (None, 2)                 12        \n",
      "                                                                 \n",
      "=================================================================\n",
      "Total params: 57\n",
      "Trainable params: 57\n",
      "Non-trainable params: 0\n",
      "_________________________________________________________________\n"
     ]
    }
   ],
   "source": [
    "model.summary()"
   ]
  },
  {
   "cell_type": "code",
   "execution_count": 30,
   "id": "3f38c754-036d-4ddd-a56a-03cc132261b4",
   "metadata": {},
   "outputs": [
    {
     "data": {
      "text/plain": [
       "[array([[ 0.58495945, -0.29245526,  0.5733678 ,  0.46434504, -0.1777947 ],\n",
       "        [-0.8578524 ,  0.36114007, -0.10162693, -0.5915611 ,  0.00770426],\n",
       "        [ 0.54303867,  0.27487355,  0.5974265 , -0.29797536,  0.49735552]],\n",
       "       dtype=float32),\n",
       " array([[-0.1858654 , -0.09420583,  0.5808596 ,  0.4086161 ,  0.67246884],\n",
       "        [ 0.1913147 ,  0.95368844, -0.04014738,  0.20806634,  0.09472939],\n",
       "        [ 0.14326677, -0.20220466, -0.75491583,  0.48028162,  0.37150988],\n",
       "        [-0.89606297,  0.20014086, -0.28536445, -0.22220671,  0.1618829 ],\n",
       "        [ 0.32465136,  0.02570086, -0.09828287, -0.7139294 ,  0.61203456]],\n",
       "       dtype=float32),\n",
       " array([0., 0., 0., 0., 0.], dtype=float32)]"
      ]
     },
     "execution_count": 30,
     "metadata": {},
     "output_type": "execute_result"
    }
   ],
   "source": [
    "model.layers[1].get_weights()"
   ]
  },
  {
   "cell_type": "code",
   "execution_count": 31,
   "id": "1d2e53f0-a198-438b-8a44-6a1219aec413",
   "metadata": {},
   "outputs": [
    {
     "name": "stdout",
     "output_type": "stream",
     "text": [
      "(3, 5) (5, 5) (5,)\n"
     ]
    }
   ],
   "source": [
    "#check shapes\n",
    "#first output is input>hidden\n",
    "#second output is hidden>hidden\n",
    "#third is bias term\n",
    "\n",
    "a,b,c=model.layers[1].get_weights()\n",
    "print(a.shape,b.shape,c.shape)"
   ]
  },
  {
   "cell_type": "code",
   "execution_count": 32,
   "id": "8887ce23-633b-4be1-89de-cddb954057b1",
   "metadata": {},
   "outputs": [],
   "source": [
    "Wx,Wh,bh=model.layers[1].get_weights()\n",
    "Wo,bo=model.layers[2].get_weights()"
   ]
  },
  {
   "cell_type": "code",
   "execution_count": 33,
   "id": "1fbf0048-4538-49eb-a081-b868438e27ba",
   "metadata": {},
   "outputs": [
    {
     "name": "stdout",
     "output_type": "stream",
     "text": [
      "[-0.40034907  0.60087444]\n"
     ]
    }
   ],
   "source": [
    "h_last=np.zeros(M) #initial hidden state\n",
    "x=X[0] #one and only sample\n",
    "yhats=[] #where the outputs are stored\n",
    "\n",
    "for t in range(T):\n",
    "    h=np.tanh(x[t].dot(Wx)+h_last.dot(Wh)+bh)\n",
    "    y=h.dot(Wo)+bo #only care about this value in last iteration\n",
    "    yhats.append(y)\n",
    "    \n",
    "    #assign h to h_last\n",
    "    h_last=h\n",
    "\n",
    "print(yhats[-1])"
   ]
  },
  {
   "cell_type": "code",
   "execution_count": null,
   "id": "9435d7e3-caa9-428e-8279-b00f09f0424f",
   "metadata": {},
   "outputs": [],
   "source": []
  }
 ],
 "metadata": {
  "kernelspec": {
   "display_name": "Python 3 (ipykernel)",
   "language": "python",
   "name": "python3"
  },
  "language_info": {
   "codemirror_mode": {
    "name": "ipython",
    "version": 3
   },
   "file_extension": ".py",
   "mimetype": "text/x-python",
   "name": "python",
   "nbconvert_exporter": "python",
   "pygments_lexer": "ipython3",
   "version": "3.10.8"
  }
 },
 "nbformat": 4,
 "nbformat_minor": 5
}
