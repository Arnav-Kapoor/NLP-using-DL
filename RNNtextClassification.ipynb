{
 "cells": [
  {
   "cell_type": "code",
   "execution_count": 1,
   "id": "e522085e-f074-489a-bab7-6718e67f4d2f",
   "metadata": {},
   "outputs": [],
   "source": [
    "import numpy as mp\n",
    "import pandas as pd\n",
    "import matplotlib.pyplot as plt\n",
    "from sklearn.model_selection import train_test_split\n",
    "\n",
    "from tensorflow.keras.preprocessing.text import Tokenizer\n",
    "from tensorflow.keras.preprocessing.sequence import pad_sequences\n",
    "from tensorflow.keras.layers import LSTM,GRU,SimpleRNN,Dense,Input,GlobalMaxPooling1D,Embedding\n",
    "from tensorflow.keras.models import Model\n",
    "from tensorflow.keras.losses import SparseCategoricalCrossentropy"
   ]
  },
  {
   "cell_type": "code",
   "execution_count": 2,
   "id": "5eeb0606-3459-4d17-861f-28ee43f24b3e",
   "metadata": {},
   "outputs": [],
   "source": [
    "df=pd.read_csv('./datasets/bbc_text_cls.csv')"
   ]
  },
  {
   "cell_type": "code",
   "execution_count": 3,
   "id": "01cba31b-c297-427a-8e37-de8dbcf95f17",
   "metadata": {},
   "outputs": [
    {
     "data": {
      "text/html": [
       "<div>\n",
       "<style scoped>\n",
       "    .dataframe tbody tr th:only-of-type {\n",
       "        vertical-align: middle;\n",
       "    }\n",
       "\n",
       "    .dataframe tbody tr th {\n",
       "        vertical-align: top;\n",
       "    }\n",
       "\n",
       "    .dataframe thead th {\n",
       "        text-align: right;\n",
       "    }\n",
       "</style>\n",
       "<table border=\"1\" class=\"dataframe\">\n",
       "  <thead>\n",
       "    <tr style=\"text-align: right;\">\n",
       "      <th></th>\n",
       "      <th>text</th>\n",
       "      <th>labels</th>\n",
       "    </tr>\n",
       "  </thead>\n",
       "  <tbody>\n",
       "    <tr>\n",
       "      <th>0</th>\n",
       "      <td>Ad sales boost Time Warner profit\\n\\nQuarterly...</td>\n",
       "      <td>business</td>\n",
       "    </tr>\n",
       "    <tr>\n",
       "      <th>1</th>\n",
       "      <td>Dollar gains on Greenspan speech\\n\\nThe dollar...</td>\n",
       "      <td>business</td>\n",
       "    </tr>\n",
       "    <tr>\n",
       "      <th>2</th>\n",
       "      <td>Yukos unit buyer faces loan claim\\n\\nThe owner...</td>\n",
       "      <td>business</td>\n",
       "    </tr>\n",
       "    <tr>\n",
       "      <th>3</th>\n",
       "      <td>High fuel prices hit BA's profits\\n\\nBritish A...</td>\n",
       "      <td>business</td>\n",
       "    </tr>\n",
       "    <tr>\n",
       "      <th>4</th>\n",
       "      <td>Pernod takeover talk lifts Domecq\\n\\nShares in...</td>\n",
       "      <td>business</td>\n",
       "    </tr>\n",
       "  </tbody>\n",
       "</table>\n",
       "</div>"
      ],
      "text/plain": [
       "                                                text    labels\n",
       "0  Ad sales boost Time Warner profit\\n\\nQuarterly...  business\n",
       "1  Dollar gains on Greenspan speech\\n\\nThe dollar...  business\n",
       "2  Yukos unit buyer faces loan claim\\n\\nThe owner...  business\n",
       "3  High fuel prices hit BA's profits\\n\\nBritish A...  business\n",
       "4  Pernod takeover talk lifts Domecq\\n\\nShares in...  business"
      ]
     },
     "execution_count": 3,
     "metadata": {},
     "output_type": "execute_result"
    }
   ],
   "source": [
    "df.head()"
   ]
  },
  {
   "cell_type": "code",
   "execution_count": 5,
   "id": "176174f1-0a8c-4dda-8bce-1d4738c67821",
   "metadata": {},
   "outputs": [],
   "source": [
    "df['targets']=df['labels'].astype('category').cat.codes"
   ]
  },
  {
   "cell_type": "code",
   "execution_count": 6,
   "id": "69dade0d-6c1b-4706-a20d-bc8197bbb401",
   "metadata": {},
   "outputs": [
    {
     "data": {
      "text/plain": [
       "5"
      ]
     },
     "execution_count": 6,
     "metadata": {},
     "output_type": "execute_result"
    }
   ],
   "source": [
    "#number of classes\n",
    "K=df['targets'].max()+1\n",
    "K"
   ]
  },
  {
   "cell_type": "code",
   "execution_count": 7,
   "id": "8f26b61a-1772-4db9-a38b-bfda1550fc4a",
   "metadata": {},
   "outputs": [],
   "source": [
    "df_train,df_test=train_test_split(df,test_size=0.3)"
   ]
  },
  {
   "cell_type": "code",
   "execution_count": 9,
   "id": "874d79a0-b9b6-485a-9029-0041cb19decc",
   "metadata": {},
   "outputs": [],
   "source": [
    "#convert sentences to sequence\n",
    "MAX_VOCAB_SIZE=2000\n",
    "tokenizer=Tokenizer(num_words=MAX_VOCAB_SIZE)\n",
    "tokenizer.fit_on_texts(df_train['text'])\n",
    "train_sequence=tokenizer.texts_to_sequences(df_train['text'])\n",
    "test_sequence=tokenizer.texts_to_sequences(df_test['text'])"
   ]
  },
  {
   "cell_type": "code",
   "execution_count": 10,
   "id": "5fc0a809-8b34-499d-ba87-5d7169d9134c",
   "metadata": {},
   "outputs": [
    {
     "name": "stdout",
     "output_type": "stream",
     "text": [
      "Found 27649 unique tokens: \n"
     ]
    }
   ],
   "source": [
    "#get word->index\n",
    "word2idx=tokenizer.word_index\n",
    "V=len(word2idx)\n",
    "print(\"Found %s unique tokens: \"%V)"
   ]
  },
  {
   "cell_type": "code",
   "execution_count": 12,
   "id": "7896c386-17c5-4cd0-b672-b0498692c5c5",
   "metadata": {},
   "outputs": [
    {
     "name": "stdout",
     "output_type": "stream",
     "text": [
      "shape of data train tensor:  (1557, 2839)\n"
     ]
    }
   ],
   "source": [
    "#pad sequnces to get NxT matrix\n",
    "data_train=pad_sequences(train_sequence)\n",
    "print(\"shape of data train tensor: \",data_train.shape)"
   ]
  },
  {
   "cell_type": "code",
   "execution_count": 13,
   "id": "8b009f63-a98a-4050-99f5-96007c3d4435",
   "metadata": {},
   "outputs": [],
   "source": [
    "T=data_train.shape[1] #sequnce length"
   ]
  },
  {
   "cell_type": "code",
   "execution_count": 15,
   "id": "06c27a49-3821-43f4-87bd-9820088d8095",
   "metadata": {},
   "outputs": [
    {
     "name": "stdout",
     "output_type": "stream",
     "text": [
      "shape of data test tensor:  (668, 2839)\n"
     ]
    }
   ],
   "source": [
    "data_test=pad_sequences(test_sequence, maxlen=T)\n",
    "print(\"shape of data test tensor: \",data_test.shape)"
   ]
  },
  {
   "cell_type": "code",
   "execution_count": 16,
   "id": "bc79af8d-0957-4271-9ef8-218722cf5cae",
   "metadata": {},
   "outputs": [],
   "source": [
    "#create model\n",
    "\n",
    "D=20 #embedding dimension\n",
    "\n",
    "i=Input(shape=(T,))\n",
    "l1=Embedding(V+1,D)(i)\n",
    "l2=LSTM(32,return_sequences=True)(l1)\n",
    "l3=GlobalMaxPooling1D()(l2)\n",
    "x=Dense(K)(l3)\n",
    "\n",
    "model=Model(i,x)"
   ]
  },
  {
   "cell_type": "code",
   "execution_count": 17,
   "id": "e9928f2c-29e5-4e2e-9275-dc45ab80a44d",
   "metadata": {},
   "outputs": [],
   "source": [
    "model.compile(loss=SparseCategoricalCrossentropy(from_logits=True), optimizer='adam', metrics=['accuracy'])"
   ]
  },
  {
   "cell_type": "code",
   "execution_count": 18,
   "id": "78474126-35d6-4c3a-ad30-74aad5f9e6c1",
   "metadata": {
    "scrolled": true,
    "tags": []
   },
   "outputs": [
    {
     "name": "stdout",
     "output_type": "stream",
     "text": [
      "Epoch 1/50\n",
      "49/49 [==============================] - 82s 2s/step - loss: 1.5983 - accuracy: 0.3128 - val_loss: 1.5754 - val_accuracy: 0.4521\n",
      "Epoch 2/50\n",
      "49/49 [==============================] - 75s 2s/step - loss: 1.4221 - accuracy: 0.4355 - val_loss: 1.2592 - val_accuracy: 0.4431\n",
      "Epoch 3/50\n",
      "49/49 [==============================] - 77s 2s/step - loss: 1.1509 - accuracy: 0.4534 - val_loss: 1.0685 - val_accuracy: 0.4805\n",
      "Epoch 4/50\n",
      "49/49 [==============================] - 87s 2s/step - loss: 0.9947 - accuracy: 0.5453 - val_loss: 0.9457 - val_accuracy: 0.6317\n",
      "Epoch 5/50\n",
      "49/49 [==============================] - 75s 2s/step - loss: 0.8414 - accuracy: 0.7245 - val_loss: 0.7590 - val_accuracy: 0.8608\n",
      "Epoch 6/50\n",
      "49/49 [==============================] - 75s 2s/step - loss: 0.5954 - accuracy: 0.8934 - val_loss: 0.5382 - val_accuracy: 0.8952\n",
      "Epoch 7/50\n",
      "49/49 [==============================] - 75s 2s/step - loss: 0.5267 - accuracy: 0.8452 - val_loss: 1.4835 - val_accuracy: 0.4775\n",
      "Epoch 8/50\n",
      "49/49 [==============================] - 76s 2s/step - loss: 1.3459 - accuracy: 0.5376 - val_loss: 0.8182 - val_accuracy: 0.7455\n",
      "Epoch 9/50\n",
      "49/49 [==============================] - 76s 2s/step - loss: 0.6126 - accuracy: 0.8748 - val_loss: 0.5655 - val_accuracy: 0.8847\n",
      "Epoch 10/50\n",
      "49/49 [==============================] - 32203s 671s/step - loss: 0.5962 - accuracy: 0.8144 - val_loss: 0.5291 - val_accuracy: 0.8743\n",
      "Epoch 11/50\n",
      "49/49 [==============================] - 133s 3s/step - loss: 0.4131 - accuracy: 0.9351 - val_loss: 0.4410 - val_accuracy: 0.8982\n",
      "Epoch 12/50\n",
      "49/49 [==============================] - 130s 3s/step - loss: 0.3489 - accuracy: 0.9441 - val_loss: 0.5024 - val_accuracy: 0.8383\n",
      "Epoch 13/50\n",
      "49/49 [==============================] - 131s 3s/step - loss: 0.3672 - accuracy: 0.9075 - val_loss: 0.3573 - val_accuracy: 0.9177\n",
      "Epoch 14/50\n",
      "49/49 [==============================] - 131s 3s/step - loss: 0.2775 - accuracy: 0.9550 - val_loss: 0.3578 - val_accuracy: 0.8952\n",
      "Epoch 15/50\n",
      "49/49 [==============================] - 130s 3s/step - loss: 0.2330 - accuracy: 0.9595 - val_loss: 0.3023 - val_accuracy: 0.9192\n",
      "Epoch 16/50\n",
      "49/49 [==============================] - 131s 3s/step - loss: 0.2082 - accuracy: 0.9634 - val_loss: 0.2779 - val_accuracy: 0.9237\n",
      "Epoch 17/50\n",
      "49/49 [==============================] - 132s 3s/step - loss: 0.1701 - accuracy: 0.9750 - val_loss: 0.2657 - val_accuracy: 0.9222\n",
      "Epoch 18/50\n",
      "49/49 [==============================] - 130s 3s/step - loss: 0.1503 - accuracy: 0.9775 - val_loss: 0.2572 - val_accuracy: 0.9251\n",
      "Epoch 19/50\n",
      "49/49 [==============================] - 130s 3s/step - loss: 0.2578 - accuracy: 0.9030 - val_loss: 0.5036 - val_accuracy: 0.7380\n",
      "Epoch 20/50\n",
      "49/49 [==============================] - 131s 3s/step - loss: 0.2879 - accuracy: 0.9396 - val_loss: 0.3373 - val_accuracy: 0.9281\n",
      "Epoch 21/50\n",
      "49/49 [==============================] - 130s 3s/step - loss: 0.2207 - accuracy: 0.9839 - val_loss: 0.3065 - val_accuracy: 0.9356\n",
      "Epoch 22/50\n",
      "49/49 [==============================] - 945s 20s/step - loss: 0.1861 - accuracy: 0.9859 - val_loss: 0.2790 - val_accuracy: 0.9341\n",
      "Epoch 23/50\n",
      "49/49 [==============================] - 134s 3s/step - loss: 0.1541 - accuracy: 0.9891 - val_loss: 0.2572 - val_accuracy: 0.9386\n",
      "Epoch 24/50\n",
      "49/49 [==============================] - 130s 3s/step - loss: 0.1252 - accuracy: 0.9910 - val_loss: 0.2233 - val_accuracy: 0.9386\n",
      "Epoch 25/50\n",
      "49/49 [==============================] - 130s 3s/step - loss: 0.1018 - accuracy: 0.9904 - val_loss: 0.2057 - val_accuracy: 0.9446\n",
      "Epoch 26/50\n",
      "49/49 [==============================] - 131s 3s/step - loss: 0.0844 - accuracy: 0.9923 - val_loss: 0.1921 - val_accuracy: 0.9491\n",
      "Epoch 27/50\n",
      "49/49 [==============================] - 130s 3s/step - loss: 0.0716 - accuracy: 0.9942 - val_loss: 0.1805 - val_accuracy: 0.9521\n",
      "Epoch 28/50\n",
      "49/49 [==============================] - 132s 3s/step - loss: 0.0612 - accuracy: 0.9949 - val_loss: 0.1677 - val_accuracy: 0.9521\n",
      "Epoch 29/50\n",
      "49/49 [==============================] - 131s 3s/step - loss: 0.0522 - accuracy: 0.9955 - val_loss: 0.1647 - val_accuracy: 0.9521\n",
      "Epoch 30/50\n",
      "49/49 [==============================] - 130s 3s/step - loss: 0.0454 - accuracy: 0.9955 - val_loss: 0.1519 - val_accuracy: 0.9566\n",
      "Epoch 31/50\n",
      "49/49 [==============================] - 130s 3s/step - loss: 0.0408 - accuracy: 0.9949 - val_loss: 0.1511 - val_accuracy: 0.9551\n",
      "Epoch 32/50\n",
      "49/49 [==============================] - 131s 3s/step - loss: 0.0355 - accuracy: 0.9968 - val_loss: 0.1467 - val_accuracy: 0.9596\n",
      "Epoch 33/50\n",
      "49/49 [==============================] - 131s 3s/step - loss: 0.0314 - accuracy: 0.9968 - val_loss: 0.1473 - val_accuracy: 0.9551\n",
      "Epoch 34/50\n",
      "49/49 [==============================] - 132s 3s/step - loss: 0.0284 - accuracy: 0.9974 - val_loss: 0.1436 - val_accuracy: 0.9611\n",
      "Epoch 35/50\n",
      "49/49 [==============================] - 134s 3s/step - loss: 0.0343 - accuracy: 0.9949 - val_loss: 0.1494 - val_accuracy: 0.9566\n",
      "Epoch 36/50\n",
      "49/49 [==============================] - 135s 3s/step - loss: 0.0277 - accuracy: 0.9981 - val_loss: 0.1524 - val_accuracy: 0.9551\n",
      "Epoch 37/50\n",
      "49/49 [==============================] - 132s 3s/step - loss: 0.0225 - accuracy: 1.0000 - val_loss: 0.1449 - val_accuracy: 0.9551\n",
      "Epoch 38/50\n",
      "49/49 [==============================] - 133s 3s/step - loss: 0.0204 - accuracy: 1.0000 - val_loss: 0.1469 - val_accuracy: 0.9581\n",
      "Epoch 39/50\n",
      "49/49 [==============================] - 133s 3s/step - loss: 0.0187 - accuracy: 1.0000 - val_loss: 0.1347 - val_accuracy: 0.9581\n",
      "Epoch 40/50\n",
      "49/49 [==============================] - 132s 3s/step - loss: 0.0173 - accuracy: 1.0000 - val_loss: 0.1491 - val_accuracy: 0.9581\n",
      "Epoch 41/50\n",
      "49/49 [==============================] - 131s 3s/step - loss: 0.0158 - accuracy: 1.0000 - val_loss: 0.1422 - val_accuracy: 0.9596\n",
      "Epoch 42/50\n",
      "49/49 [==============================] - 131s 3s/step - loss: 0.0147 - accuracy: 1.0000 - val_loss: 0.1489 - val_accuracy: 0.9581\n",
      "Epoch 43/50\n",
      "49/49 [==============================] - 132s 3s/step - loss: 0.0143 - accuracy: 1.0000 - val_loss: 0.1311 - val_accuracy: 0.9611\n",
      "Epoch 44/50\n",
      "49/49 [==============================] - 133s 3s/step - loss: 0.0439 - accuracy: 0.9929 - val_loss: 0.1227 - val_accuracy: 0.9626\n",
      "Epoch 45/50\n",
      "49/49 [==============================] - 127s 3s/step - loss: 0.0434 - accuracy: 0.9910 - val_loss: 0.1337 - val_accuracy: 0.9536\n",
      "Epoch 46/50\n",
      "49/49 [==============================] - 128s 3s/step - loss: 0.0428 - accuracy: 0.9923 - val_loss: 0.1285 - val_accuracy: 0.9611\n",
      "Epoch 47/50\n",
      "49/49 [==============================] - 371s 8s/step - loss: 0.0236 - accuracy: 0.9987 - val_loss: 0.1078 - val_accuracy: 0.9641\n",
      "Epoch 48/50\n",
      "49/49 [==============================] - 129s 3s/step - loss: 0.0184 - accuracy: 0.9994 - val_loss: 0.1466 - val_accuracy: 0.9506\n",
      "Epoch 49/50\n",
      "49/49 [==============================] - 127s 3s/step - loss: 0.0200 - accuracy: 0.9987 - val_loss: 0.1032 - val_accuracy: 0.9626\n",
      "Epoch 50/50\n",
      "49/49 [==============================] - 124s 3s/step - loss: 0.0129 - accuracy: 1.0000 - val_loss: 0.1077 - val_accuracy: 0.9656\n"
     ]
    }
   ],
   "source": [
    "history=model.fit(data_train,df_train['targets'],epochs=50,validation_data=(data_test,df_test['targets']))"
   ]
  },
  {
   "cell_type": "code",
   "execution_count": 20,
   "id": "ebf4dc69-7d1a-4151-9fca-9ec6f7f9db6c",
   "metadata": {},
   "outputs": [
    {
     "data": {
      "text/plain": [
       "<matplotlib.legend.Legend at 0x2488d3af640>"
      ]
     },
     "execution_count": 20,
     "metadata": {},
     "output_type": "execute_result"
    },
    {
     "data": {
      "image/png": "[encoded data removed]",
      "text/plain": [
       "<Figure size 640x480 with 1 Axes>"
      ]
     },
     "metadata": {},
     "output_type": "display_data"
    }
   ],
   "source": [
    "plt.plot(history.history['loss'],label='train loss')\n",
    "plt.plot(history.history['val_loss'],label='test loss')\n",
    "plt.legend()"
   ]
  },
  {
   "cell_type": "code",
   "execution_count": 21,
   "id": "5f872d97-f2bf-457c-a37d-a625400d943d",
   "metadata": {},
   "outputs": [
    {
     "data": {
      "text/plain": [
       "<matplotlib.legend.Legend at 0x2488d45c730>"
      ]
     },
     "execution_count": 21,
     "metadata": {},
     "output_type": "execute_result"
    },
    {
     "data": {
      "image/png": "[encoded data removed]",
      "text/plain": [
       "<Figure size 640x480 with 1 Axes>"
      ]
     },
     "metadata": {},
     "output_type": "display_data"
    }
   ],
   "source": [
    "plt.plot(history.history['accuracy'],label='train acc')\n",
    "plt.plot(history.history['val_accuracy'],label='test acc')\n",
    "plt.legend()"
   ]
  },
  {
   "cell_type": "code",
   "execution_count": null,
   "id": "a85148db-fbe9-402d-b34d-0e401a6ff6cf",
   "metadata": {},
   "outputs": [],
   "source": []
  }
 ],
 "metadata": {
  "kernelspec": {
   "display_name": "Python 3 (ipykernel)",
   "language": "python",
   "name": "python3"
  },
  "language_info": {
   "codemirror_mode": {
    "name": "ipython",
    "version": 3
   },
   "file_extension": ".py",
   "mimetype": "text/x-python",
   "name": "python",
   "nbconvert_exporter": "python",
   "pygments_lexer": "ipython3",
   "version": "3.10.8"
  }
 },
 "nbformat": 4,
 "nbformat_minor": 5
}
