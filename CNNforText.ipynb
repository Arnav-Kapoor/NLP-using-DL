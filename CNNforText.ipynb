{
 "cells": [
  {
   "cell_type": "code",
   "execution_count": 1,
   "id": "0a5f540c-2931-4dff-b36e-4135d2507a6f",
   "metadata": {},
   "outputs": [],
   "source": [
    "import numpy as np\n",
    "import pandas as pd\n",
    "import matplotlib.pyplot as plt \n",
    "import tensorflow as tf\n",
    "from sklearn.model_selection import train_test_split\n",
    "\n",
    "from tensorflow.keras.preprocessing.text import Tokenizer\n",
    "from tensorflow.keras.preprocessing.sequence import pad_sequences\n",
    "from tensorflow.keras.layers import Dense,GlobalMaxPooling1D,Conv1D,Input,MaxPooling1D,Embedding\n",
    "from tensorflow.keras.models import Model\n",
    "from tensorflow.keras.losses import SparseCategoricalCrossentropy"
   ]
  },
  {
   "cell_type": "code",
   "execution_count": 2,
   "id": "ee99ddb5-af86-463a-ac07-2caf80a907fe",
   "metadata": {},
   "outputs": [],
   "source": [
    "df=pd.read_csv('./datasets/bbc_text_cls.csv')"
   ]
  },
  {
   "cell_type": "code",
   "execution_count": 3,
   "id": "c04ce0a7-06d3-46c8-9e68-b52e57c86bc7",
   "metadata": {},
   "outputs": [
    {
     "data": {
      "text/html": [
       "<div>\n",
       "<style scoped>\n",
       "    .dataframe tbody tr th:only-of-type {\n",
       "        vertical-align: middle;\n",
       "    }\n",
       "\n",
       "    .dataframe tbody tr th {\n",
       "        vertical-align: top;\n",
       "    }\n",
       "\n",
       "    .dataframe thead th {\n",
       "        text-align: right;\n",
       "    }\n",
       "</style>\n",
       "<table border=\"1\" class=\"dataframe\">\n",
       "  <thead>\n",
       "    <tr style=\"text-align: right;\">\n",
       "      <th></th>\n",
       "      <th>text</th>\n",
       "      <th>labels</th>\n",
       "    </tr>\n",
       "  </thead>\n",
       "  <tbody>\n",
       "    <tr>\n",
       "      <th>0</th>\n",
       "      <td>Ad sales boost Time Warner profit\\n\\nQuarterly...</td>\n",
       "      <td>business</td>\n",
       "    </tr>\n",
       "    <tr>\n",
       "      <th>1</th>\n",
       "      <td>Dollar gains on Greenspan speech\\n\\nThe dollar...</td>\n",
       "      <td>business</td>\n",
       "    </tr>\n",
       "    <tr>\n",
       "      <th>2</th>\n",
       "      <td>Yukos unit buyer faces loan claim\\n\\nThe owner...</td>\n",
       "      <td>business</td>\n",
       "    </tr>\n",
       "    <tr>\n",
       "      <th>3</th>\n",
       "      <td>High fuel prices hit BA's profits\\n\\nBritish A...</td>\n",
       "      <td>business</td>\n",
       "    </tr>\n",
       "    <tr>\n",
       "      <th>4</th>\n",
       "      <td>Pernod takeover talk lifts Domecq\\n\\nShares in...</td>\n",
       "      <td>business</td>\n",
       "    </tr>\n",
       "  </tbody>\n",
       "</table>\n",
       "</div>"
      ],
      "text/plain": [
       "                                                text    labels\n",
       "0  Ad sales boost Time Warner profit\\n\\nQuarterly...  business\n",
       "1  Dollar gains on Greenspan speech\\n\\nThe dollar...  business\n",
       "2  Yukos unit buyer faces loan claim\\n\\nThe owner...  business\n",
       "3  High fuel prices hit BA's profits\\n\\nBritish A...  business\n",
       "4  Pernod takeover talk lifts Domecq\\n\\nShares in...  business"
      ]
     },
     "execution_count": 3,
     "metadata": {},
     "output_type": "execute_result"
    }
   ],
   "source": [
    "df.head()"
   ]
  },
  {
   "cell_type": "code",
   "execution_count": 4,
   "id": "97e7fe07-c098-44bf-bad3-23f816859699",
   "metadata": {},
   "outputs": [],
   "source": [
    "df['targets']=df['labels'].astype(\"category\").cat.codes"
   ]
  },
  {
   "cell_type": "code",
   "execution_count": 5,
   "id": "96d76469-aa12-45d0-88e8-f7656188fa04",
   "metadata": {},
   "outputs": [
    {
     "data": {
      "text/plain": [
       "5"
      ]
     },
     "execution_count": 5,
     "metadata": {},
     "output_type": "execute_result"
    }
   ],
   "source": [
    "#number of classes\n",
    "K=df['targets'].max()+1\n",
    "K"
   ]
  },
  {
   "cell_type": "code",
   "execution_count": 6,
   "id": "d83e7753-b760-4b56-8762-388689e3e33d",
   "metadata": {},
   "outputs": [],
   "source": [
    "df_train,df_test=train_test_split(df,test_size=0.3)"
   ]
  },
  {
   "cell_type": "code",
   "execution_count": 7,
   "id": "7f38c5b6-56e6-44e4-b934-e8c7b9db0dec",
   "metadata": {},
   "outputs": [],
   "source": [
    "#convert sentences to sequences\n",
    "MAX_VOCAB_SIZE=2000\n",
    "tokenizer=Tokenizer(num_words=MAX_VOCAB_SIZE)\n",
    "tokenizer.fit_on_texts(df_train['text'])\n",
    "sequences_train=tokenizer.texts_to_sequences(df_train['text'])\n",
    "sequences_test=tokenizer.texts_to_sequences(df_test['text'])"
   ]
  },
  {
   "cell_type": "code",
   "execution_count": 9,
   "id": "c01e3087-74c9-4da3-a37d-ee8edbb3a631",
   "metadata": {},
   "outputs": [
    {
     "name": "stdout",
     "output_type": "stream",
     "text": [
      "found 27461 unique tokens\n"
     ]
    }
   ],
   "source": [
    "#get word->integer mapping\n",
    "word2idx=tokenizer.word_index\n",
    "V=len(word2idx)\n",
    "print(\"found %s unique tokens\" %V)"
   ]
  },
  {
   "cell_type": "code",
   "execution_count": 10,
   "id": "4ebdbc1b-73cf-4c60-a8f3-ef0a026863e5",
   "metadata": {},
   "outputs": [
    {
     "name": "stdout",
     "output_type": "stream",
     "text": [
      "shape of data_train tensor:  (1557, 2831)\n"
     ]
    }
   ],
   "source": [
    "#pad sequences to get NxT matrix\n",
    "data_train=pad_sequences(sequences_train)\n",
    "print(\"shape of data_train tensor: \",data_train.shape)\n",
    "\n",
    "#get sequence length\n",
    "T=data_train.shape[1]"
   ]
  },
  {
   "cell_type": "code",
   "execution_count": 13,
   "id": "e8891b0b-8d81-486f-b53d-84d05d7904ca",
   "metadata": {},
   "outputs": [
    {
     "name": "stdout",
     "output_type": "stream",
     "text": [
      "shape of data_test tensor:  (668, 2831)\n"
     ]
    }
   ],
   "source": [
    "data_test=pad_sequences(sequences_test, maxlen=T)\n",
    "print(\"shape of data_test tensor: \",data_test.shape)"
   ]
  },
  {
   "cell_type": "code",
   "execution_count": 14,
   "id": "2baaa78e-272b-42df-8660-cbfc5f958372",
   "metadata": {},
   "outputs": [],
   "source": [
    "#create model\n",
    "\n",
    "#embedding size\n",
    "D=50\n",
    "\n",
    "i=Input(shape=(T,))\n",
    "l1=Embedding(V+1,D)(i)\n",
    "l2=Conv1D(32,3, activation='relu')(l1)\n",
    "l3=GlobalMaxPooling1D()(l2)\n",
    "x=Dense(K)(l3)\n",
    "\n",
    "model=Model(i,x)"
   ]
  },
  {
   "cell_type": "code",
   "execution_count": 15,
   "id": "f60bec78-546b-4fa9-a670-8fc74db54ca6",
   "metadata": {},
   "outputs": [],
   "source": [
    "model.compile(loss=SparseCategoricalCrossentropy(from_logits=True),\n",
    "             optimizer='adam',\n",
    "             metrics=['accuracy'])"
   ]
  },
  {
   "cell_type": "code",
   "execution_count": 16,
   "id": "b98f11e5-71ee-4b01-9d7d-ce95a129af39",
   "metadata": {
    "scrolled": true,
    "tags": []
   },
   "outputs": [
    {
     "name": "stdout",
     "output_type": "stream",
     "text": [
      "Epoch 1/50\n",
      "49/49 [==============================] - 9s 159ms/step - loss: 1.5571 - accuracy: 0.3963 - val_loss: 1.5028 - val_accuracy: 0.3982\n",
      "Epoch 2/50\n",
      "49/49 [==============================] - 7s 143ms/step - loss: 1.3366 - accuracy: 0.6217 - val_loss: 1.2072 - val_accuracy: 0.7231\n",
      "Epoch 3/50\n",
      "49/49 [==============================] - 7s 143ms/step - loss: 0.9301 - accuracy: 0.8080 - val_loss: 0.7747 - val_accuracy: 0.8278\n",
      "Epoch 4/50\n",
      "49/49 [==============================] - 7s 143ms/step - loss: 0.5281 - accuracy: 0.9133 - val_loss: 0.4676 - val_accuracy: 0.9147\n",
      "Epoch 5/50\n",
      "49/49 [==============================] - 7s 146ms/step - loss: 0.2887 - accuracy: 0.9621 - val_loss: 0.3193 - val_accuracy: 0.9296\n",
      "Epoch 6/50\n",
      "49/49 [==============================] - 8s 171ms/step - loss: 0.1735 - accuracy: 0.9769 - val_loss: 0.2568 - val_accuracy: 0.9311\n",
      "Epoch 7/50\n",
      "49/49 [==============================] - 7s 144ms/step - loss: 0.1153 - accuracy: 0.9865 - val_loss: 0.2242 - val_accuracy: 0.9371\n",
      "Epoch 8/50\n",
      "49/49 [==============================] - 7s 145ms/step - loss: 0.0808 - accuracy: 0.9923 - val_loss: 0.2083 - val_accuracy: 0.9386\n",
      "Epoch 9/50\n",
      "49/49 [==============================] - 7s 145ms/step - loss: 0.0578 - accuracy: 0.9949 - val_loss: 0.1961 - val_accuracy: 0.9386\n",
      "Epoch 10/50\n",
      "49/49 [==============================] - 7s 144ms/step - loss: 0.0430 - accuracy: 0.9968 - val_loss: 0.1868 - val_accuracy: 0.9416\n",
      "Epoch 11/50\n",
      "49/49 [==============================] - 7s 145ms/step - loss: 0.0322 - accuracy: 0.9987 - val_loss: 0.1812 - val_accuracy: 0.9416\n",
      "Epoch 12/50\n",
      "49/49 [==============================] - 7s 142ms/step - loss: 0.0248 - accuracy: 0.9994 - val_loss: 0.1775 - val_accuracy: 0.9446\n",
      "Epoch 13/50\n",
      "49/49 [==============================] - 7s 142ms/step - loss: 0.0193 - accuracy: 1.0000 - val_loss: 0.1742 - val_accuracy: 0.9446\n",
      "Epoch 14/50\n",
      "49/49 [==============================] - 7s 144ms/step - loss: 0.0156 - accuracy: 1.0000 - val_loss: 0.1715 - val_accuracy: 0.9461\n",
      "Epoch 15/50\n",
      "49/49 [==============================] - 7s 147ms/step - loss: 0.0128 - accuracy: 1.0000 - val_loss: 0.1694 - val_accuracy: 0.9431\n",
      "Epoch 16/50\n",
      "49/49 [==============================] - 7s 142ms/step - loss: 0.0106 - accuracy: 1.0000 - val_loss: 0.1684 - val_accuracy: 0.9431\n",
      "Epoch 17/50\n",
      "49/49 [==============================] - 7s 144ms/step - loss: 0.0089 - accuracy: 1.0000 - val_loss: 0.1674 - val_accuracy: 0.9461\n",
      "Epoch 18/50\n",
      "49/49 [==============================] - 7s 144ms/step - loss: 0.0076 - accuracy: 1.0000 - val_loss: 0.1665 - val_accuracy: 0.9446\n",
      "Epoch 19/50\n",
      "49/49 [==============================] - 7s 145ms/step - loss: 0.0066 - accuracy: 1.0000 - val_loss: 0.1659 - val_accuracy: 0.9446\n",
      "Epoch 20/50\n",
      "49/49 [==============================] - 7s 145ms/step - loss: 0.0058 - accuracy: 1.0000 - val_loss: 0.1655 - val_accuracy: 0.9491\n",
      "Epoch 21/50\n",
      "49/49 [==============================] - 7s 143ms/step - loss: 0.0051 - accuracy: 1.0000 - val_loss: 0.1653 - val_accuracy: 0.9491\n",
      "Epoch 22/50\n",
      "49/49 [==============================] - 7s 143ms/step - loss: 0.0045 - accuracy: 1.0000 - val_loss: 0.1649 - val_accuracy: 0.9491\n",
      "Epoch 23/50\n",
      "49/49 [==============================] - 7s 145ms/step - loss: 0.0040 - accuracy: 1.0000 - val_loss: 0.1647 - val_accuracy: 0.9491\n",
      "Epoch 24/50\n",
      "49/49 [==============================] - 7s 142ms/step - loss: 0.0036 - accuracy: 1.0000 - val_loss: 0.1648 - val_accuracy: 0.9491\n",
      "Epoch 25/50\n",
      "49/49 [==============================] - 7s 144ms/step - loss: 0.0032 - accuracy: 1.0000 - val_loss: 0.1649 - val_accuracy: 0.9491\n",
      "Epoch 26/50\n",
      "49/49 [==============================] - 7s 149ms/step - loss: 0.0029 - accuracy: 1.0000 - val_loss: 0.1649 - val_accuracy: 0.9491\n",
      "Epoch 27/50\n",
      "49/49 [==============================] - 8s 154ms/step - loss: 0.0027 - accuracy: 1.0000 - val_loss: 0.1651 - val_accuracy: 0.9506\n",
      "Epoch 28/50\n",
      "49/49 [==============================] - 7s 149ms/step - loss: 0.0024 - accuracy: 1.0000 - val_loss: 0.1652 - val_accuracy: 0.9506\n",
      "Epoch 29/50\n",
      "49/49 [==============================] - 7s 143ms/step - loss: 0.0022 - accuracy: 1.0000 - val_loss: 0.1652 - val_accuracy: 0.9521\n",
      "Epoch 30/50\n",
      "49/49 [==============================] - 7s 143ms/step - loss: 0.0020 - accuracy: 1.0000 - val_loss: 0.1654 - val_accuracy: 0.9506\n",
      "Epoch 31/50\n",
      "49/49 [==============================] - 7s 143ms/step - loss: 0.0019 - accuracy: 1.0000 - val_loss: 0.1657 - val_accuracy: 0.9506\n",
      "Epoch 32/50\n",
      "49/49 [==============================] - 7s 145ms/step - loss: 0.0017 - accuracy: 1.0000 - val_loss: 0.1659 - val_accuracy: 0.9506\n",
      "Epoch 33/50\n",
      "49/49 [==============================] - 7s 146ms/step - loss: 0.0016 - accuracy: 1.0000 - val_loss: 0.1663 - val_accuracy: 0.9506\n",
      "Epoch 34/50\n",
      "49/49 [==============================] - 7s 143ms/step - loss: 0.0015 - accuracy: 1.0000 - val_loss: 0.1666 - val_accuracy: 0.9506\n",
      "Epoch 35/50\n",
      "49/49 [==============================] - 7s 142ms/step - loss: 0.0014 - accuracy: 1.0000 - val_loss: 0.1669 - val_accuracy: 0.9506\n",
      "Epoch 36/50\n",
      "49/49 [==============================] - 7s 142ms/step - loss: 0.0013 - accuracy: 1.0000 - val_loss: 0.1671 - val_accuracy: 0.9506\n",
      "Epoch 37/50\n",
      "49/49 [==============================] - 7s 143ms/step - loss: 0.0012 - accuracy: 1.0000 - val_loss: 0.1676 - val_accuracy: 0.9506\n",
      "Epoch 38/50\n",
      "49/49 [==============================] - 7s 144ms/step - loss: 0.0011 - accuracy: 1.0000 - val_loss: 0.1679 - val_accuracy: 0.9506\n",
      "Epoch 39/50\n",
      "49/49 [==============================] - 7s 143ms/step - loss: 0.0011 - accuracy: 1.0000 - val_loss: 0.1681 - val_accuracy: 0.9506\n",
      "Epoch 40/50\n",
      "49/49 [==============================] - 7s 143ms/step - loss: 9.9339e-04 - accuracy: 1.0000 - val_loss: 0.1684 - val_accuracy: 0.9506\n",
      "Epoch 41/50\n",
      "49/49 [==============================] - 7s 143ms/step - loss: 9.3363e-04 - accuracy: 1.0000 - val_loss: 0.1689 - val_accuracy: 0.9506\n",
      "Epoch 42/50\n",
      "49/49 [==============================] - 7s 142ms/step - loss: 8.7817e-04 - accuracy: 1.0000 - val_loss: 0.1693 - val_accuracy: 0.9506\n",
      "Epoch 43/50\n",
      "49/49 [==============================] - 7s 144ms/step - loss: 8.2734e-04 - accuracy: 1.0000 - val_loss: 0.1696 - val_accuracy: 0.9506\n",
      "Epoch 44/50\n",
      "49/49 [==============================] - 8s 155ms/step - loss: 7.8014e-04 - accuracy: 1.0000 - val_loss: 0.1699 - val_accuracy: 0.9506\n",
      "Epoch 45/50\n",
      "49/49 [==============================] - 7s 145ms/step - loss: 7.3803e-04 - accuracy: 1.0000 - val_loss: 0.1705 - val_accuracy: 0.9506\n",
      "Epoch 46/50\n",
      "49/49 [==============================] - 7s 148ms/step - loss: 6.9785e-04 - accuracy: 1.0000 - val_loss: 0.1707 - val_accuracy: 0.9506\n",
      "Epoch 47/50\n",
      "49/49 [==============================] - 7s 153ms/step - loss: 6.6003e-04 - accuracy: 1.0000 - val_loss: 0.1711 - val_accuracy: 0.9506\n",
      "Epoch 48/50\n",
      "49/49 [==============================] - 8s 154ms/step - loss: 6.2485e-04 - accuracy: 1.0000 - val_loss: 0.1716 - val_accuracy: 0.9506\n",
      "Epoch 49/50\n",
      "49/49 [==============================] - 8s 164ms/step - loss: 5.9266e-04 - accuracy: 1.0000 - val_loss: 0.1719 - val_accuracy: 0.9506\n",
      "Epoch 50/50\n",
      "49/49 [==============================] - 8s 156ms/step - loss: 5.6305e-04 - accuracy: 1.0000 - val_loss: 0.1722 - val_accuracy: 0.9506\n"
     ]
    }
   ],
   "source": [
    "history=model.fit(data_train,df_train['targets'],epochs=50,validation_data=[data_test,df_test['targets']])"
   ]
  },
  {
   "cell_type": "code",
   "execution_count": 17,
   "id": "9e292d23-98ae-4c0a-bb15-81fee157743f",
   "metadata": {},
   "outputs": [
    {
     "data": {
      "text/plain": [
       "<matplotlib.legend.Legend at 0x1e537709d20>"
      ]
     },
     "execution_count": 17,
     "metadata": {},
     "output_type": "execute_result"
    },
    {
     "data": {
      "image/png": "[encoded data removed]",
      "text/plain": [
       "<Figure size 640x480 with 1 Axes>"
      ]
     },
     "metadata": {},
     "output_type": "display_data"
    }
   ],
   "source": [
    "#plot loss per epoch\n",
    "plt.plot(history.history['loss'],label='train_loss')\n",
    "plt.plot(history.history['val_loss'],label=\"test_loss\")\n",
    "plt.legend()"
   ]
  },
  {
   "cell_type": "code",
   "execution_count": 18,
   "id": "796b4029-701a-48e6-9ced-6c4b5992569a",
   "metadata": {},
   "outputs": [
    {
     "data": {
      "text/plain": [
       "<matplotlib.legend.Legend at 0x1e537c40a90>"
      ]
     },
     "execution_count": 18,
     "metadata": {},
     "output_type": "execute_result"
    },
    {
     "data": {
      "image/png": "[encoded data removed]",
      "text/plain": [
       "<Figure size 640x480 with 1 Axes>"
      ]
     },
     "metadata": {},
     "output_type": "display_data"
    }
   ],
   "source": [
    "#plot accuracy per epoch\n",
    "plt.plot(history.history['accuracy'],label='train_acc')\n",
    "plt.plot(history.history['val_accuracy'],label=\"test_acc\")\n",
    "plt.legend()"
   ]
  },
  {
   "cell_type": "code",
   "execution_count": null,
   "id": "0064f7c8-4e76-4239-972d-97c23c5a7e05",
   "metadata": {},
   "outputs": [],
   "source": []
  }
 ],
 "metadata": {
  "kernelspec": {
   "display_name": "Python 3 (ipykernel)",
   "language": "python",
   "name": "python3"
  },
  "language_info": {
   "codemirror_mode": {
    "name": "ipython",
    "version": 3
   },
   "file_extension": ".py",
   "mimetype": "text/x-python",
   "name": "python",
   "nbconvert_exporter": "python",
   "pygments_lexer": "ipython3",
   "version": "3.10.8"
  }
 },
 "nbformat": 4,
 "nbformat_minor": 5
}
